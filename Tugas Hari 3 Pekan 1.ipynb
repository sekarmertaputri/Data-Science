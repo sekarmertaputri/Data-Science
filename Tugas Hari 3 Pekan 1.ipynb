{
 "cells": [
  {
   "cell_type": "markdown",
   "metadata": {
    "id": "I6jmLA-RYrt5"
   },
   "source": [
    "<h2>Soal 1: Helper Function</h2>\n",
    "\n",
    "Jawab Pertanyaan di bawah ini:\n",
    "\n",
    "Misalkan kamu ingin mengetahui tentang kegunaan fungsi 'len' di Python, maka fungsi apa yang bisa kamu gunakan untuk menolong kamu?"
   ]
  },
  {
   "cell_type": "code",
   "execution_count": 11,
   "metadata": {
    "id": "VrvyQxGJYrt9",
    "scrolled": true
   },
   "outputs": [
    {
     "name": "stdout",
     "output_type": "stream",
     "text": [
      "Help on built-in function len in module builtins:\n",
      "\n",
      "len(obj, /)\n",
      "    Return the number of items in a container.\n",
      "\n",
      "None\n"
     ]
    }
   ],
   "source": [
    "# lengkapi code ini\n",
    "\n",
    "print(help(len))"
   ]
  },
  {
   "cell_type": "markdown",
   "metadata": {
    "id": "KrcuFTuAYruT"
   },
   "source": [
    "<h2>Soal 2: Built-in Function</h2>\n",
    "\n",
    "Jawab Pertanyaan di bawah ini:\n",
    "    \n",
    "Apa itu built-in Function?\n",
    "\n",
    "Sebutkan 3 built-in Function di pyhon!\n",
    "\n",
    "Berikan contoh masing2 1 cara penggunaan built-in function yang kamu sebutkan sebelumnya"
   ]
  },
  {
   "cell_type": "markdown",
   "metadata": {
    "id": "xro-58_CYruW"
   },
   "source": [
    "//isi jawaban text disini\n",
    "\n"
   ]
  },
  {
   "cell_type": "code",
   "execution_count": null,
   "metadata": {},
   "outputs": [],
   "source": [
    "Built-in function adalah fungsi bawaan yang sudah ada di dalam bahasa pemrograman tersebut atau bisa dibilang merupakan fungsi default dari bahasa pemrograman tersebut.\n",
    "Contohnya:\n",
    "1. print()\n",
    "2. map()\n",
    "3. int()"
   ]
  },
  {
   "cell_type": "code",
   "execution_count": 40,
   "metadata": {
    "id": "Xv7lHkgfYruY"
   },
   "outputs": [
    {
     "name": "stdout",
     "output_type": "stream",
     "text": [
      "semoga sukses\n",
      "\n",
      "[1.0, 2.0, 3.0] \n",
      "\n",
      "2\n"
     ]
    }
   ],
   "source": [
    "# Contoh penggunaan built in function\n",
    "\n",
    "#print()\n",
    "print('semoga sukses\\n')\n",
    "\n",
    "#map()\n",
    "a = [2, 4, 6]\n",
    "hasil = list(map(lambda x:x/2,a))\n",
    "print(hasil,'\\n')\n",
    "\n",
    "#int()\n",
    "a = 10\n",
    "b = 5\n",
    "print(int(a/b))"
   ]
  },
  {
   "cell_type": "markdown",
   "metadata": {
    "id": "yhWXiPNDYrul"
   },
   "source": [
    "<h2>Soal 3: Method dan Function</h2>\n",
    "\n",
    "Jawab Pertanyaan di bawah ini:\n",
    "    \n",
    "- Apa perbedaan method dan function?"
   ]
  },
  {
   "cell_type": "markdown",
   "metadata": {
    "id": "rqpTJlgDYrun"
   },
   "source": [
    "Perbedaan methon dan function yaitu method merupakan fungsi yang tidak bisa berdiri sendiri karena menggunakan objek lain untuk melakukan pemanggilan sedangkan function merupakan fungsi yang berdiri sendiri yang dapat memanggil objek tanpa bantuan objek lain."
   ]
  },
  {
   "cell_type": "markdown",
   "metadata": {
    "id": "tUU1xgYBYrup"
   },
   "source": [
    "<h2>Soal 4: Menggunkan Method String</h2>\n",
    "\n",
    "Lengkapi kode untuk menghasilkan suatu output yang di harapkan"
   ]
  },
  {
   "cell_type": "code",
   "execution_count": 50,
   "metadata": {
    "id": "037gauOGYrur"
   },
   "outputs": [
    {
     "name": "stdout",
     "output_type": "stream",
     "text": [
      "AYO BELAJAR DATA SCIENCE \n",
      "\n",
      "5\n"
     ]
    }
   ],
   "source": [
    "kalimat = \"ayo belajar data science\"\n",
    "\n",
    "# gunakan method untuk mengubah nilai kalimat menjadi uppercase semua kemudian tampilkan hasilnya\n",
    "\n",
    "print(kalimat.upper(),'\\n')\n",
    "\n",
    "# gunakan method untuk menghitung berapa huruf a di dalam kalimat\n",
    "\n",
    "huruf = 'a'\n",
    "jumlah_huruf = kalimat.count(huruf)\n",
    "print(jumlah_huruf)\n"
   ]
  },
  {
   "cell_type": "markdown",
   "metadata": {
    "id": "fPTd4R5VYru5"
   },
   "source": [
    "Expected Output:\n",
    "\n",
    "AYO BELAJAR DATA SCIENCE\n",
    "\n",
    "5"
   ]
  },
  {
   "cell_type": "markdown",
   "metadata": {
    "id": "IPjp5vwDYrvL"
   },
   "source": [
    "<h2>Soal 5: Membuat Simple Function</h2>\n",
    "\n",
    "Buatlah suatu fungsi yang menerima satu input argumen berbentuk list dan mempunyai elemen bertipe numeric semua, dimana fungsi tersebut berguna untuk menghitung rata2 dari kumpulan elemen list tersebut. namai fungsi tersebut 'mean_list'"
   ]
  },
  {
   "cell_type": "code",
   "execution_count": 54,
   "metadata": {
    "id": "5KZg_AJUF9sK"
   },
   "outputs": [
    {
     "name": "stdout",
     "output_type": "stream",
     "text": [
      "12.39\n"
     ]
    }
   ],
   "source": [
    "obj_list = [11.25, 18.0, 20.0, 10.75, 9.50, 13.45, 23.0, 7.0, 8.45, 2.50]\n",
    "def mean_list(inp_list):\n",
    "    return(sum(inp_list)/len(inp_list))\n",
    "\n",
    "print(mean_list(obj_list))"
   ]
  },
  {
   "cell_type": "markdown",
   "metadata": {
    "id": "MVAvoHHgYrva"
   },
   "source": [
    "Expected Output:\n",
    "\n",
    "12.39"
   ]
  },
  {
   "cell_type": "markdown",
   "metadata": {
    "id": "A8jjpNC8Yrvc"
   },
   "source": [
    "<h2>Soal 6: Membuat Function dengan Multiple arguments</h2>\n",
    "\n",
    "Buatlah suatu fungsi untuk melakukan penggabungan antara dua list "
   ]
  },
  {
   "cell_type": "code",
   "execution_count": 101,
   "metadata": {
    "id": "gMWsoMw7G4s4"
   },
   "outputs": [
    {
     "name": "stdout",
     "output_type": "stream",
     "text": [
      "(1, 2, 3, 4, 5, 6, 7)\n"
     ]
    }
   ],
   "source": [
    "obj_list = [1, 2, 3, 4]\n",
    "obj_penambah = [5, 6, 7]\n",
    "\n",
    "def kali_list(inp_list1, inp_list2):\n",
    "    return(*inp_list1, *inp_list2)\n",
    "\n",
    "print(kali_list(obj_list, obj_penambah))"
   ]
  },
  {
   "cell_type": "markdown",
   "metadata": {
    "id": "RYhU921kYrvp"
   },
   "source": [
    "Expected Output:\n",
    "\n",
    "\n",
    "[1, 2, 3, 4, 5, 6, 7]"
   ]
  },
  {
   "cell_type": "markdown",
   "metadata": {
    "id": "n4vXAQs4G9_s"
   },
   "source": [
    "# Soal 7. Mapping Fungsi lambda\n",
    "\n",
    "Hitunglah jumlah bilangan genap dari sebuah objek list berikut menggunakan lambda function"
   ]
  },
  {
   "cell_type": "code",
   "execution_count": 213,
   "metadata": {
    "id": "fKZSTDb9NdIZ"
   },
   "outputs": [
    {
     "name": "stdout",
     "output_type": "stream",
     "text": [
      "500\n"
     ]
    }
   ],
   "source": [
    "obj_list = [i for i in range(1000)]\n",
    "\n",
    "hasil = sum(list(map(lambda x: x % 2 == 0, obj_list)))\n",
    "\n",
    "print(hasil)"
   ]
  },
  {
   "cell_type": "markdown",
   "metadata": {
    "id": "vEj-AttRNWuZ"
   },
   "source": [
    "Expected output:\n",
    "\n",
    "500"
   ]
  }
 ],
 "metadata": {
  "colab": {
   "collapsed_sections": [],
   "name": "Tugas Hari 3.ipynb",
   "provenance": []
  },
  "kernelspec": {
   "display_name": "Python [conda env:base] *",
   "language": "python",
   "name": "conda-base-py"
  },
  "language_info": {
   "codemirror_mode": {
    "name": "ipython",
    "version": 3
   },
   "file_extension": ".py",
   "mimetype": "text/x-python",
   "name": "python",
   "nbconvert_exporter": "python",
   "pygments_lexer": "ipython3",
   "version": "3.12.7"
  }
 },
 "nbformat": 4,
 "nbformat_minor": 4
}
